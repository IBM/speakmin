{
 "cells": [
  {
   "cell_type": "code",
   "execution_count": null,
   "id": "2b3699bc-808e-4c42-96d3-9e8be2886a88",
   "metadata": {},
   "outputs": [],
   "source": [
    "# Copyright contributors to the speakmin project\n",
    "# SPDX-License-Identifier: Apache-2.0"
   ]
  },
  {
   "cell_type": "code",
   "execution_count": null,
   "id": "8a98804f-9e99-4a25-a450-6c28d1d5be6a",
   "metadata": {},
   "outputs": [],
   "source": [
    "%matplotlib inline\n",
    "import numpy as np\n",
    "import matplotlib.pyplot as plt, librosa, librosa.display, urllib\n",
    "\n",
    "dataset_path = '../dataset/speech_commands_v0.02/'\n",
    "wavefile = 'up/004ae714_nohash_0.wav'\n",
    "y, fs = librosa.load(dataset_path + wavefile, sr=44100)\n",
    "librosa.display.waveshow(y, sr=fs, color='blue')\n",
    "print(y.shape)\n",
    "print(fs)\n",
    "print(y.shape[0]/(fs * 1.0))"
   ]
  },
  {
   "cell_type": "code",
   "execution_count": null,
   "id": "6bffb5d8-478e-4979-8693-3a24e279c8d3",
   "metadata": {},
   "outputs": [],
   "source": [
    "# Short-term fourier transform (STFT)\n",
    "n_fft = 2048 *3 #2048\n",
    "hop_length = 512 *3 #512\n",
    "stft = np.abs(librosa.stft(y, n_fft=n_fft, hop_length=hop_length)) **2\n",
    "log_stft = librosa.power_to_db(stft)\n",
    "\n",
    "librosa.display.specshow(log_stft, sr=fs, x_axis='time', y_axis='hz')\n",
    "plt.colorbar()\n",
    "print(log_stft.shape)"
   ]
  },
  {
   "cell_type": "code",
   "execution_count": null,
   "id": "e925109a-a55c-4c2e-929d-5e35f7829ad8",
   "metadata": {},
   "outputs": [],
   "source": [
    "# apply melspectrogram\n",
    "melsp = librosa.feature.melspectrogram(S=log_stft)\n",
    "librosa.display.specshow(melsp, sr=fs, x_axis='time', y_axis='mel')\n",
    "plt.colorbar()"
   ]
  },
  {
   "cell_type": "code",
   "execution_count": null,
   "id": "7f1e455a-db35-4b22-997c-9d158dcdf04e",
   "metadata": {},
   "outputs": [],
   "source": [
    "# Discrete Cosine Transform (DCT)\n",
    "# then, pick up lower xxx bin (n_mfcc 20)\n",
    "n_mfcc = 20\n",
    "mfccs = librosa.feature.mfcc(S=melsp, n_mfcc=n_mfcc)\n",
    "librosa.display.specshow(mfccs, sr=fs, x_axis='time')\n",
    "plt.colorbar()"
   ]
  },
  {
   "cell_type": "code",
   "execution_count": null,
   "id": "381a7d7e-3824-475f-b5ae-cede8bc859e8",
   "metadata": {},
   "outputs": [],
   "source": [
    "# standardize the data and plot it\n",
    "from sklearn import preprocessing\n",
    "#mfccs = sklearn.preprocessing.scale(mfccs, axis=1)\n",
    "mfccs = preprocessing.scale(mfccs, axis=1)\n",
    "librosa.display.specshow(mfccs, sr=fs, x_axis='time')\n",
    "plt.colorbar()"
   ]
  },
  {
   "cell_type": "code",
   "execution_count": null,
   "id": "1a39cd2b-0349-46ad-b288-22ed814e72ba",
   "metadata": {},
   "outputs": [],
   "source": [
    "mfccs.shape"
   ]
  }
 ],
 "metadata": {
  "kernelspec": {
   "display_name": "Python 3 (ipykernel)",
   "language": "python",
   "name": "python3"
  },
  "language_info": {
   "codemirror_mode": {
    "name": "ipython",
    "version": 3
   },
   "file_extension": ".py",
   "mimetype": "text/x-python",
   "name": "python",
   "nbconvert_exporter": "python",
   "pygments_lexer": "ipython3",
   "version": "3.8.10"
  }
 },
 "nbformat": 4,
 "nbformat_minor": 5
}
