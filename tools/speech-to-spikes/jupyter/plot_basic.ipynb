{
 "cells": [
  {
   "cell_type": "code",
   "execution_count": null,
   "id": "e1efbdd3-536e-40c0-b13c-85e5ef8d668c",
   "metadata": {},
   "outputs": [],
   "source": [
    "# Copyright contributors to the speakmin project\n",
    "# SPDX-License-Identifier: Apache-2.0"
   ]
  },
  {
   "cell_type": "code",
   "execution_count": null,
   "id": "8a98804f-9e99-4a25-a450-6c28d1d5be6a",
   "metadata": {},
   "outputs": [],
   "source": [
    "%matplotlib inline\n",
    "import matplotlib.pyplot as plt, librosa, librosa.display, urllib\n",
    "\n",
    "dataset_path = '../dataset/speech_commands_v0.02/'\n",
    "wavefile = 'up/004ae714_nohash_0.wav'\n",
    "y, fs = librosa.load(dataset_path + wavefile, sr=44100)\n",
    "librosa.display.waveshow(y, sr=fs, color='blue')"
   ]
  },
  {
   "cell_type": "code",
   "execution_count": null,
   "id": "6bffb5d8-478e-4979-8693-3a24e279c8d3",
   "metadata": {},
   "outputs": [],
   "source": [
    "# get MFCC\n",
    "mfccs = librosa.feature.mfcc(y=y, sr=fs)\n",
    "\n",
    "# show it\n",
    "librosa.display.specshow(mfccs, sr=fs, x_axis='time')\n",
    "plt.colorbar()"
   ]
  }
 ],
 "metadata": {
  "kernelspec": {
   "display_name": "Python 3 (ipykernel)",
   "language": "python",
   "name": "python3"
  },
  "language_info": {
   "codemirror_mode": {
    "name": "ipython",
    "version": 3
   },
   "file_extension": ".py",
   "mimetype": "text/x-python",
   "name": "python",
   "nbconvert_exporter": "python",
   "pygments_lexer": "ipython3",
   "version": "3.8.10"
  }
 },
 "nbformat": 4,
 "nbformat_minor": 5
}
