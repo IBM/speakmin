{
 "cells": [
  {
   "cell_type": "code",
   "execution_count": null,
   "id": "3c8424cf-388d-4043-8fff-f5de08f75eab",
   "metadata": {},
   "outputs": [],
   "source": [
    "# Copyright contributors to the speakmin project\n",
    "# SPDX-License-Identifier: Apache-2.0"
   ]
  },
  {
   "cell_type": "code",
   "execution_count": null,
   "id": "8a98804f-9e99-4a25-a450-6c28d1d5be6a",
   "metadata": {},
   "outputs": [],
   "source": [
    "%matplotlib inline\n",
    "import numpy as np\n",
    "from pydub import AudioSegment\n",
    "import matplotlib.pyplot as plt\n",
    "\n",
    "dataset_path = '../dataset/speech_commands_v0.02/'\n",
    "wavefile = 'up/004ae714_nohash_0.wav'\n",
    "sounds = AudioSegment.from_file(dataset_path + wavefile, 'wav')"
   ]
  },
  {
   "cell_type": "code",
   "execution_count": null,
   "id": "7cc8a586-98c8-4195-bc1a-b5e1746d2ff0",
   "metadata": {},
   "outputs": [],
   "source": [
    "print(f'channel: {sounds.channels}')\n",
    "print(f'frame rate: {sounds.frame_rate}')\n",
    "print(f'duration: {sounds.duration_seconds} s')\n",
    "print(f'sample width: {sounds.sample_width}')"
   ]
  },
  {
   "cell_type": "code",
   "execution_count": null,
   "id": "736e0c92-1ef1-4b3d-9ad9-cb7e173454b5",
   "metadata": {},
   "outputs": [],
   "source": [
    "sig = np.array(sounds.get_array_of_samples())[::sounds.channels]\n",
    "dt = 1.0/sounds.frame_rate\n",
    "t_start = 0.0\n",
    "t_end = sounds.duration_seconds\n",
    "time = np.linspace(t_start, t_end, len(sig), endpoint=False)"
   ]
  },
  {
   "cell_type": "code",
   "execution_count": null,
   "id": "c56ba91b-87d7-46bb-9686-47b951fe1f63",
   "metadata": {},
   "outputs": [],
   "source": [
    "#DFT\n",
    "dft_n = len(sig)\n",
    "dft_x = np.fft.fft(sig)\n",
    "dft_f = np.fft.fftfreq(dft_n, dt)"
   ]
  },
  {
   "cell_type": "code",
   "execution_count": null,
   "id": "bdf5b744-a5cc-475b-8bfd-246b69ae663a",
   "metadata": {},
   "outputs": [],
   "source": [
    "# Low-pass filter\n",
    "lpf_cutoff = 5.0e+2 # cutoff frequency\n",
    "lpf_x = dft_x.copy()\n",
    "lpf_x[(dft_f > lpf_cutoff) | (dft_f < -lpf_cutoff)] = 0.0\n",
    "lpf_sig = np.real(np.fft.ifft(lpf_x))\n",
    "\n",
    "lpf_sounds = AudioSegment(lpf_sig.astype('int16').tobytes(),\n",
    "                          sample_width = sounds.sample_width,\n",
    "                          frame_rate = sounds.frame_rate,\n",
    "                          channels = 1)\n",
    "lpf_sounds.export('LPFed.wav', format='wav')"
   ]
  },
  {
   "cell_type": "code",
   "execution_count": null,
   "id": "918f81dd-d8a5-477b-88dc-72796aba6b5e",
   "metadata": {},
   "outputs": [],
   "source": [
    "# High-pass filter\n",
    "hpf_cutoff = 10.0e+2\n",
    "hpf_x = dft_x.copy()\n",
    "hpf_x[((dft_f > 0) & (dft_f < hpf_cutoff)) | ((dft_f < 0) & (dft_f > -hpf_cutoff))] = 0.0\n",
    "hpf_sig = np.real(np.fft.ifft(hpf_x))\n",
    "\n",
    "hpf_sounds = AudioSegment(hpf_sig.astype('int16').tobytes(),\n",
    "                          sample_width = sounds.sample_width,\n",
    "                          frame_rate = sounds.frame_rate,\n",
    "                          channels = 1)\n",
    "hpf_sounds.export('HPFed.wav', format='wav')"
   ]
  },
  {
   "cell_type": "code",
   "execution_count": null,
   "id": "32c60707-913f-48f4-a7c6-922c0f18a311",
   "metadata": {},
   "outputs": [],
   "source": [
    "# Plot\n",
    "fig, (ax01, ax02) = plt.subplots(nrows = 2, figsize = (6, 8))\n",
    "#plt.subplots_adjust(wspace = 0.0, hspace = 0.6)\n",
    "\n",
    "ax01.set_xlim(t_start, t_end)\n",
    "ax01.set_xlabel('Time (s)')\n",
    "ax01.set_ylabel('X')\n",
    "ax01.plot(time, sig, color = 'black')\n",
    "ax01.plot(time, lpf_sig, color = 'blue')\n",
    "ax01.plot(time, hpf_sig, color = 'orange')\n",
    "\n",
    "ax02.set_xlim(0, 2000)\n",
    "ax02.set_xlabel('Frequency (Hz)')\n",
    "ax02.set_ylabel('|X|/N')\n",
    "ax02.plot(dft_f[0:dft_n//2], np.abs(dft_x[0:dft_n//2])/dft_n, color = 'black')\n",
    "ax02.plot(dft_f[0:dft_n//2], np.abs(lpf_x[0:dft_n//2])/dft_n, color = 'blue')\n",
    "ax02.plot(dft_f[0:dft_n//2], np.abs(hpf_x[0:dft_n//2])/dft_n, color = 'orange')"
   ]
  },
  {
   "cell_type": "code",
   "execution_count": null,
   "id": "cec998be-6e5e-45b7-91ea-7e106d6ee766",
   "metadata": {},
   "outputs": [],
   "source": []
  }
 ],
 "metadata": {
  "kernelspec": {
   "display_name": "Python 3 (ipykernel)",
   "language": "python",
   "name": "python3"
  },
  "language_info": {
   "codemirror_mode": {
    "name": "ipython",
    "version": 3
   },
   "file_extension": ".py",
   "mimetype": "text/x-python",
   "name": "python",
   "nbconvert_exporter": "python",
   "pygments_lexer": "ipython3",
   "version": "3.8.10"
  }
 },
 "nbformat": 4,
 "nbformat_minor": 5
}
